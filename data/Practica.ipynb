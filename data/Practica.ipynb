{
 "cells": [
  {
   "cell_type": "markdown",
   "id": "c8d2eea9",
   "metadata": {},
   "source": [
    "## Práctica 1\n",
    "\n",
    "### Minería de Datos\n",
    "\n",
    "### Nombre: Anahí Cabrera"
   ]
  },
  {
   "cell_type": "markdown",
   "id": "b132b46c",
   "metadata": {},
   "source": [
    "1. Ingresar al siguiente link:\n",
    "https://www.datosabiertos.gob.ec/dataset/?q=senescyt\n"
   ]
  },
  {
   "cell_type": "markdown",
   "id": "f8b134ee",
   "metadata": {},
   "source": [
    "#### Dataset:"
   ]
  },
  {
   "cell_type": "markdown",
   "id": "b2ed411f",
   "metadata": {},
   "source": [
    "##### Problema: \n",
    "Análisis Descriptivo de Becas Otorgadas por la Secretaría de Educación Superior Ciencia, Tecnología e Innovación (SENESCYT)\n",
    "\n",
    "##### Objetivo Pasado: \n",
    "Realizar un análisis descriptivo de las becas otorgadas por la SENESCYT con datos actualizados hasta octubre de 2023, con el fin de comprender mejor la distribución y características de los beneficiarios de estas becas.\n",
    "\n",
    "##### Descripción del Problema:\n",
    "La Secretaría de Educación Superior Ciencia, Tecnología e Innovación (SENESCYT) otorga becas a estudiantes y profesionales para promover la formación académica y el desarrollo científico en Ecuador. Se dispone de un conjunto de datos actualizado hasta octubre de 2023 que contiene información sobre las becas otorgadas.\n",
    "\n",
    "##### Datos Disponibles:\n",
    "El conjunto de datos contiene las siguientes columnas:\n",
    "\n",
    "* ID_Beca: Identificador único de la beca.\n",
    "* ID_Estudiante: Identificador único del estudiante beneficiario.\n",
    "* Nombre_Estudiante: Nombre completo del estudiante.\n",
    "* Carrera: Carrera o área de estudio del estudiante.\n",
    "* Universidad: Universidad en la que el estudiante está inscrito.\n",
    "* Tipo_Beca: Tipo de beca otorgada (por ejemplo, beca de pregrado, beca de posgrado, beca de investigación, etc.).\n",
    "* Monto: Monto de la beca otorgada.\n",
    "* Duración_Meses: Duración de la beca en meses.\n",
    "* País_Destino: País al que el estudiante viajará para cursar estudios o realizar actividades relacionadas con la beca.\n",
    "* Fecha_Inicio: Fecha de inicio de la beca.\n",
    "* Fecha_Fin: Fecha de finalización de la beca.\n",
    "* Estado: Estado actual de la beca (por ejemplo, activa, finalizada, cancelada, etc.)."
   ]
  },
  {
   "cell_type": "code",
   "execution_count": 1,
   "id": "376b5cbf",
   "metadata": {},
   "outputs": [
    {
     "name": "stdout",
     "output_type": "stream",
     "text": [
      "   CODIGO_IDENTIFICADOR IDENTIFICADOR_BECAS IDENTIFICADOR_BECARIO    ETNIA  \\\n",
      "0          124281290174                  OK                    OK  MESTIZO   \n",
      "1          124281300192                  OK                    OK  MESTIZO   \n",
      "2          123842250101                  OK                    OK  MESTIZO   \n",
      "3          124588350101                  OK                    OK  MESTIZO   \n",
      "4          124588360147                  OK                    OK  MESTIZO   \n",
      "\n",
      "      GENERO DISCAPACIDAD TIPO_DISCAPACIDAD PORCENTAJE_DISCAPACIDAD  \\\n",
      "0   FEMENINO           SI            VISUAL                 51 A 70   \n",
      "1  MASCULINO           NO                 -                       -   \n",
      "2  MASCULINO           NO                 -                       -   \n",
      "3  MASCULINO           NO                 -                       -   \n",
      "4   FEMENINO           NO                 -                       -   \n",
      "\n",
      "  ESTADO_CIVIL FECHA_DE_NACIMIENTO  ...  \\\n",
      "0   SOLTERO(A)               25103  ...   \n",
      "1    CASADO(A)               25369  ...   \n",
      "2    CASADO(A)               21813  ...   \n",
      "3    CASADO(A)               22104  ...   \n",
      "4    CASADO(A)               26989  ...   \n",
      "\n",
      "                                     AREA_DE_ESTUDIO  \\\n",
      "0                                ARTES Y HUMANIDADES   \n",
      "1        CIENCIAS SOCIALES, PERIODISMO E INFORMACION   \n",
      "2  TECNOLOGIAS DE LA INFORMACION Y LA COMUNICACIO...   \n",
      "3               ADMINISTRACION DE EMPRESAS Y DERECHO   \n",
      "4                                          EDUCACION   \n",
      "\n",
      "                                  SUBAREA_DE_ESTUDIO  \\\n",
      "0                                            IDIOMAS   \n",
      "1             CIENCIAS SOCIALES Y DEL COMPORTAMIENTO   \n",
      "2  TECNOLOGIAS DE LA INFORMACION Y LA COMUNICACIO...   \n",
      "3               EDUCACION COMERCIAL Y ADMINISTRACION   \n",
      "4                                          EDUCACION   \n",
      "\n",
      "                             AREA_ESTUDIO_DETALLADO FECHA_DE_SUSCRIPCION  \\\n",
      "0                          LITERATURA Y LINGÜISTICA              41649.0   \n",
      "1                  SOCIOLOGIA Y ESTUDIOS CULTURALES              41064.0   \n",
      "2  DESARROLLO Y ANALISIS DE SOFTWARE Y APLICACIONES              41670.0   \n",
      "3                          GESTION Y ADMINISTRACION              41457.0   \n",
      "4                          CIENCIAS DE LA EDUCACION              41963.0   \n",
      "\n",
      "  FECHA_INICIO_FINANCIAMIENTO FECHA_FIN_FINANCIAMIENTO FECHA_INICIO_ESTUDIOS  \\\n",
      "0                       41658                    41868                 41658   \n",
      "1                       41064                    41135                 41064   \n",
      "2                       41671                    43130                 41671   \n",
      "3                       41457                    41672                 41457   \n",
      "4                       41856                    43044                 41856   \n",
      "\n",
      "  FECHA_FIN_STUDIOS              ESTADO_ESTUDIANTE  \\\n",
      "0             41868                     EX BECARIO   \n",
      "1             41135  BECARIO FINALIZO COMPENSACION   \n",
      "2             43130        BECARIO EN COMPENSACION   \n",
      "3             41672               TERMINO ESTUDIOS   \n",
      "4             43008        BECARIO EN COMPENSACION   \n",
      "\n",
      "                       ESTADO_BECA  \n",
      "0                       EX BECARIO  \n",
      "1                    FINALIZO BECA  \n",
      "2    SEGUIMIENTO A LA COMPENSACION  \n",
      "3  TERMINO ESTUDIOS / COMPENSACION  \n",
      "4    SEGUIMIENTO A LA COMPENSACION  \n",
      "\n",
      "[5 rows x 36 columns]\n"
     ]
    },
    {
     "name": "stderr",
     "output_type": "stream",
     "text": [
      "C:\\Users\\anahi\\AppData\\Local\\Temp\\ipykernel_11112\\4166997672.py:4: DtypeWarning: Columns (33) have mixed types. Specify dtype option on import or set low_memory=False.\n",
      "  data = pd.read_csv(\"becas23.csv\", sep=',')\n"
     ]
    }
   ],
   "source": [
    "import pandas as pd\n",
    "\n",
    "# Cargar el archivo CSV desde la misma carpeta\n",
    "data = pd.read_csv(\"becas23.csv\", sep=',')\n",
    "\n",
    "# Visualizar las primeras filas del DataFrame\n",
    "print(data.head())"
   ]
  },
  {
   "cell_type": "code",
   "execution_count": 4,
   "id": "f646088c",
   "metadata": {},
   "outputs": [
    {
     "name": "stdout",
     "output_type": "stream",
     "text": [
      "<class 'pandas.core.frame.DataFrame'>\n",
      "RangeIndex: 67880 entries, 0 to 67879\n",
      "Data columns (total 36 columns):\n",
      " #   Column                           Non-Null Count  Dtype         \n",
      "---  ------                           --------------  -----         \n",
      " 0   CODIGO_IDENTIFICADOR             67880 non-null  int64         \n",
      " 1   IDENTIFICADOR_BECAS              67880 non-null  object        \n",
      " 2   IDENTIFICADOR_BECARIO            67880 non-null  object        \n",
      " 3   ETNIA                            67880 non-null  object        \n",
      " 4   GENERO                           67880 non-null  object        \n",
      " 5   DISCAPACIDAD                     67880 non-null  object        \n",
      " 6   TIPO_DISCAPACIDAD                67880 non-null  object        \n",
      " 7   PORCENTAJE_DISCAPACIDAD          67879 non-null  object        \n",
      " 8   ESTADO_CIVIL                     67880 non-null  object        \n",
      " 9   FECHA_DE_NACIMIENTO              0 non-null      datetime64[ns]\n",
      " 10  PROVINCIA_NACIMIENTO_HOMOLOGADA  67880 non-null  object        \n",
      " 11  CANTON_NACIMIENTO                67880 non-null  object        \n",
      " 12  ZONA_SENPLADES_LUGAR_NACIMIENTO  67880 non-null  object        \n",
      " 13  PROVINCIA_RESIDENCIA_HOMOLOGADA  67880 non-null  object        \n",
      " 14  CANTON_RESIDENCIA                67880 non-null  object        \n",
      " 15  PROGRAMA_GENERAL                 67880 non-null  object        \n",
      " 16  SUBPROGRAMA                      67880 non-null  object        \n",
      " 17  CONVOCATORIA                     67880 non-null  object        \n",
      " 18  COMPONENTE                       67880 non-null  object        \n",
      " 19  DESTINO                          67880 non-null  object        \n",
      " 20  FINANCIAMIENTO                   67880 non-null  object        \n",
      " 21  IES_DE_ESTUDIOS_HOMOLOGADA       67880 non-null  object        \n",
      " 22  PAIS_DE_ESTUDIOS                 67880 non-null  object        \n",
      " 23  NIVEL_DE_ESTUDIOS                67880 non-null  object        \n",
      " 24  NIVEL_DETALLADO                  67880 non-null  object        \n",
      " 25  CARRERA                          67880 non-null  object        \n",
      " 26  AREA_DE_ESTUDIO                  67880 non-null  object        \n",
      " 27  SUBAREA_DE_ESTUDIO               67880 non-null  object        \n",
      " 28  AREA_ESTUDIO_DETALLADO           67880 non-null  object        \n",
      " 29  FECHA_DE_SUSCRIPCION             67880 non-null  datetime64[ns]\n",
      " 30  FECHA_INICIO_FINANCIAMIENTO      501 non-null    datetime64[ns]\n",
      " 31  FECHA_FIN_FINANCIAMIENTO         501 non-null    datetime64[ns]\n",
      " 32  FECHA_INICIO_ESTUDIOS            67880 non-null  datetime64[ns]\n",
      " 33  FECHA_FIN_STUDIOS                51496 non-null  datetime64[ns]\n",
      " 34  ESTADO_ESTUDIANTE                67880 non-null  object        \n",
      " 35  ESTADO_BECA                      67880 non-null  object        \n",
      "dtypes: datetime64[ns](6), int64(1), object(29)\n",
      "memory usage: 18.6+ MB\n"
     ]
    }
   ],
   "source": [
    "data.info()"
   ]
  },
  {
   "cell_type": "markdown",
   "id": "9b42ca14",
   "metadata": {},
   "source": [
    "### 2. Tratamiento de Datos\n"
   ]
  },
  {
   "cell_type": "code",
   "execution_count": 2,
   "id": "de6acbcd",
   "metadata": {},
   "outputs": [],
   "source": [
    "# Convertir columnas de fecha a objetos de fecha y hora\n",
    "date_columns = [\"FECHA_DE_NACIMIENTO\", \"FECHA_DE_SUSCRIPCION\", \"FECHA_INICIO_FINANCIAMIENTO\", \n",
    "                \"FECHA_FIN_FINANCIAMIENTO\", \"FECHA_INICIO_ESTUDIOS\", \"FECHA_FIN_STUDIOS\"]\n",
    "for column in date_columns:\n",
    "    data[column] = pd.to_datetime(data[column], errors='coerce')\n",
    "\n",
    "data.to_csv(\"datos_tratados.csv\", index=False)\n",
    "\n"
   ]
  },
  {
   "cell_type": "code",
   "execution_count": 3,
   "id": "c253021a",
   "metadata": {},
   "outputs": [
    {
     "name": "stdout",
     "output_type": "stream",
     "text": [
      "   CODIGO_IDENTIFICADOR IDENTIFICADOR_BECAS IDENTIFICADOR_BECARIO    ETNIA  \\\n",
      "0          124281290174                  OK                    OK  MESTIZO   \n",
      "1          124281300192                  OK                    OK  MESTIZO   \n",
      "2          123842250101                  OK                    OK  MESTIZO   \n",
      "3          124588350101                  OK                    OK  MESTIZO   \n",
      "4          124588360147                  OK                    OK  MESTIZO   \n",
      "\n",
      "      GENERO DISCAPACIDAD TIPO_DISCAPACIDAD PORCENTAJE_DISCAPACIDAD  \\\n",
      "0   FEMENINO           SI            VISUAL                 51 A 70   \n",
      "1  MASCULINO           NO                 -                       -   \n",
      "2  MASCULINO           NO                 -                       -   \n",
      "3  MASCULINO           NO                 -                       -   \n",
      "4   FEMENINO           NO                 -                       -   \n",
      "\n",
      "  ESTADO_CIVIL FECHA_DE_NACIMIENTO  ...  \\\n",
      "0   SOLTERO(A)                 NaT  ...   \n",
      "1    CASADO(A)                 NaT  ...   \n",
      "2    CASADO(A)                 NaT  ...   \n",
      "3    CASADO(A)                 NaT  ...   \n",
      "4    CASADO(A)                 NaT  ...   \n",
      "\n",
      "                                     AREA_DE_ESTUDIO  \\\n",
      "0                                ARTES Y HUMANIDADES   \n",
      "1        CIENCIAS SOCIALES, PERIODISMO E INFORMACION   \n",
      "2  TECNOLOGIAS DE LA INFORMACION Y LA COMUNICACIO...   \n",
      "3               ADMINISTRACION DE EMPRESAS Y DERECHO   \n",
      "4                                          EDUCACION   \n",
      "\n",
      "                                  SUBAREA_DE_ESTUDIO  \\\n",
      "0                                            IDIOMAS   \n",
      "1             CIENCIAS SOCIALES Y DEL COMPORTAMIENTO   \n",
      "2  TECNOLOGIAS DE LA INFORMACION Y LA COMUNICACIO...   \n",
      "3               EDUCACION COMERCIAL Y ADMINISTRACION   \n",
      "4                                          EDUCACION   \n",
      "\n",
      "                             AREA_ESTUDIO_DETALLADO  \\\n",
      "0                          LITERATURA Y LINGÜISTICA   \n",
      "1                  SOCIOLOGIA Y ESTUDIOS CULTURALES   \n",
      "2  DESARROLLO Y ANALISIS DE SOFTWARE Y APLICACIONES   \n",
      "3                          GESTION Y ADMINISTRACION   \n",
      "4                          CIENCIAS DE LA EDUCACION   \n",
      "\n",
      "           FECHA_DE_SUSCRIPCION FECHA_INICIO_FINANCIAMIENTO  \\\n",
      "0 1970-01-01 00:00:00.000041649                         NaT   \n",
      "1 1970-01-01 00:00:00.000041064                         NaT   \n",
      "2 1970-01-01 00:00:00.000041670                         NaT   \n",
      "3 1970-01-01 00:00:00.000041457                         NaT   \n",
      "4 1970-01-01 00:00:00.000041963                         NaT   \n",
      "\n",
      "  FECHA_FIN_FINANCIAMIENTO         FECHA_INICIO_ESTUDIOS  \\\n",
      "0                      NaT 1970-01-01 00:00:00.000041658   \n",
      "1                      NaT 1970-01-01 00:00:00.000041064   \n",
      "2                      NaT 1970-01-01 00:00:00.000041671   \n",
      "3                      NaT 1970-01-01 00:00:00.000041457   \n",
      "4                      NaT 1970-01-01 00:00:00.000041856   \n",
      "\n",
      "              FECHA_FIN_STUDIOS              ESTADO_ESTUDIANTE  \\\n",
      "0 1970-01-01 00:00:00.000041868                     EX BECARIO   \n",
      "1 1970-01-01 00:00:00.000041135  BECARIO FINALIZO COMPENSACION   \n",
      "2 1970-01-01 00:00:00.000043130        BECARIO EN COMPENSACION   \n",
      "3 1970-01-01 00:00:00.000041672               TERMINO ESTUDIOS   \n",
      "4 1970-01-01 00:00:00.000043008        BECARIO EN COMPENSACION   \n",
      "\n",
      "                       ESTADO_BECA  \n",
      "0                       EX BECARIO  \n",
      "1                    FINALIZO BECA  \n",
      "2    SEGUIMIENTO A LA COMPENSACION  \n",
      "3  TERMINO ESTUDIOS / COMPENSACION  \n",
      "4    SEGUIMIENTO A LA COMPENSACION  \n",
      "\n",
      "[5 rows x 36 columns]\n"
     ]
    }
   ],
   "source": [
    "print(data.head())"
   ]
  },
  {
   "cell_type": "markdown",
   "id": "5b808c20",
   "metadata": {},
   "source": [
    "### Link Tableau\n",
    "\n",
    "https://public.tableau.com/authoring/Practica_17150501398110/Sheet1#1"
   ]
  },
  {
   "cell_type": "markdown",
   "id": "5886084f",
   "metadata": {},
   "source": [
    "## Conclusiones\n",
    "\n",
    "\n",
    "- Mediante el uso combinado de Python para el tratamiento inicial de datos y Tableau para la visualización, podemos obtener una comprensión profunda y dinámica del problema de becas de la SENESCYT, lo que nos permite identificar tendencias, patrones y áreas de mejora para el programa."
   ]
  },
  {
   "cell_type": "code",
   "execution_count": null,
   "id": "122ee9e3",
   "metadata": {},
   "outputs": [],
   "source": []
  }
 ],
 "metadata": {
  "kernelspec": {
   "display_name": "Python 3 (ipykernel)",
   "language": "python",
   "name": "python3"
  },
  "language_info": {
   "codemirror_mode": {
    "name": "ipython",
    "version": 3
   },
   "file_extension": ".py",
   "mimetype": "text/x-python",
   "name": "python",
   "nbconvert_exporter": "python",
   "pygments_lexer": "ipython3",
   "version": "3.9.13"
  }
 },
 "nbformat": 4,
 "nbformat_minor": 5
}
